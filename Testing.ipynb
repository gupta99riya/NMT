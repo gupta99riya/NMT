{
  "nbformat": 4,
  "nbformat_minor": 0,
  "metadata": {
    "colab": {
      "name": "Testing.ipynb",
      "provenance": [],
      "collapsed_sections": [],
      "toc_visible": true
    },
    "kernelspec": {
      "display_name": "Python 3",
      "language": "python",
      "name": "python3"
    },
    "language_info": {
      "codemirror_mode": {
        "name": "ipython",
        "version": 3
      },
      "file_extension": ".py",
      "mimetype": "text/x-python",
      "name": "python",
      "nbconvert_exporter": "python",
      "pygments_lexer": "ipython3",
      "version": "3.6.5"
    },
    "accelerator": "GPU"
  },
  "cells": [
    {
      "cell_type": "markdown",
      "metadata": {
        "colab_type": "text",
        "id": "23L4NpUP5_TC"
      },
      "source": [
        "# Model Test\n",
        "\n"
      ]
    },
    {
      "cell_type": "code",
      "metadata": {
        "colab_type": "code",
        "id": "sgGsvqiTc5Ty",
        "colab": {}
      },
      "source": [
        "import numpy as np\n",
        "import pickle\n",
        "from babel.dates import format_date\n",
        "import matplotlib.pyplot as plt\n",
        "%matplotlib inline"
      ],
      "execution_count": 0,
      "outputs": []
    },
    {
      "cell_type": "code",
      "metadata": {
        "id": "XColiFhHz4ug",
        "colab_type": "code",
        "colab": {}
      },
      "source": [
        "file = open(\"human_vocab.pkl\", \"rb\")\n",
        "human_vocab = pickle.load(file)\n",
        "file.close()\n",
        "\n",
        "file = open(\"inv_machine_vocab.pkl\", \"rb\")\n",
        "inv_machine_vocab = pickle.load(file)\n",
        "file.close()\n"
      ],
      "execution_count": 0,
      "outputs": []
    },
    {
      "cell_type": "code",
      "metadata": {
        "id": "lk5fXjEAz41C",
        "colab_type": "code",
        "colab": {}
      },
      "source": [
        "from keras.models import load_model\n",
        "model = load_model (\"NMT_date_conversion_model.h5\")"
      ],
      "execution_count": 0,
      "outputs": []
    },
    {
      "cell_type": "code",
      "metadata": {
        "colab_type": "code",
        "id": "esAo8hWzA05t",
        "colab": {}
      },
      "source": [
        "def string_to_int(string, length, vocab):\n",
        "    string = string.lower()\n",
        "    string = string.replace(',','')\n",
        "    \n",
        "    if len(string) > length:\n",
        "        string = string[:length]\n",
        "        \n",
        "    rep = list(map(lambda x: vocab.get(x, '<unk>'), string))\n",
        "    \n",
        "    if len(string) < length:\n",
        "        rep += [vocab['<pad>']] * (length - len(string))\n",
        "    \n",
        "    return rep\n",
        "\n",
        "c0 = np.zeros((1000,64))\n",
        "s0 = np.zeros((1000,64))"
      ],
      "execution_count": 0,
      "outputs": []
    },
    {
      "cell_type": "code",
      "metadata": {
        "id": "FvUi-oRSz0FC",
        "colab_type": "code",
        "colab": {
          "base_uri": "https://localhost:8080/",
          "height": 286
        },
        "outputId": "6ef0ec55-0d3c-46c8-9f25-ada2e4c30539"
      },
      "source": [
        "EXAMPLES = ['3 May 1979', '5 April 09', '21th of August 2016', 'Tue 10 Jul 2007', 'Saturday May 9 2018', 'March 3 2001', 'March 3rd 2001', '1 March 2001']\n",
        "for example in EXAMPLES:\n",
        "    \n",
        "    source = string_to_int(example, Tx, human_vocab)\n",
        "    source = np.array(list(map(lambda x: to_categorical(x, num_classes=len(human_vocab)), source)))\n",
        "    source = source.reshape((1, ) + source.shape)\n",
        "    prediction = model.predict([source, s0, c0])\n",
        "    prediction = np.argmax(prediction, axis = -1)\n",
        "    output = [inv_machine_vocab[int(i)] for i in prediction]\n",
        "    \n",
        "    print(\"source:\", example)\n",
        "    print(\"output:\", ''.join(output))\n"
      ],
      "execution_count": 19,
      "outputs": [
        {
          "output_type": "stream",
          "text": [
            "source: 3 May 1979\n",
            "output: 1997-03-03\n",
            "source: 5 April 09\n",
            "output: 2094-04-04\n",
            "source: 21th of August 2016\n",
            "output: 2016-08-08\n",
            "source: Tue 10 Jul 2007\n",
            "output: 2007-07-07\n",
            "source: Saturday May 9 2018\n",
            "output: 1088-05-05\n",
            "source: March 3 2001\n",
            "output: 2003-03-03\n",
            "source: March 3rd 2001\n",
            "output: 2003-03-03\n",
            "source: 1 March 2001\n",
            "output: 2000-03-03\n"
          ],
          "name": "stdout"
        }
      ]
    }
  ]
}