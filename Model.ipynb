{
  "nbformat": 4,
  "nbformat_minor": 0,
  "metadata": {
    "colab": {
      "name": "Assignment.ipynb",
      "provenance": [],
      "collapsed_sections": [],
      "toc_visible": true
    },
    "kernelspec": {
      "display_name": "Python 3",
      "language": "python",
      "name": "python3"
    },
    "language_info": {
      "codemirror_mode": {
        "name": "ipython",
        "version": 3
      },
      "file_extension": ".py",
      "mimetype": "text/x-python",
      "name": "python",
      "nbconvert_exporter": "python",
      "pygments_lexer": "ipython3",
      "version": "3.6.5"
    },
    "accelerator": "GPU"
  },
  "cells": [
    {
      "cell_type": "markdown",
      "metadata": {
        "colab_type": "text",
        "id": "23L4NpUP5_TC"
      },
      "source": [
        "# Neural Machine Translation\n",
        "\n",
        "###  Predicting Machine Redable dates from Human readable date\n",
        "\n",
        "For instance, there are variety of possible human readable formats (e.g. \"the 29th of August 1958\", \"03/30/1968\", \"24 JUNE 1987\"), this network will convert that into standardized, machine readable dates (e.g. \"1958-08-29\", \"1968-03-30\", \"1987-06-24\"). The model is run on Google colab with GPU. "
      ]
    },
    {
      "cell_type": "markdown",
      "metadata": {
        "colab_type": "text",
        "id": "mMmUrJJ28C1p"
      },
      "source": [
        "## Importing Packages"
      ]
    },
    {
      "cell_type": "code",
      "metadata": {
        "id": "XoG8zfUogjYs",
        "colab_type": "code",
        "colab": {
          "base_uri": "https://localhost:8080/",
          "height": 171
        },
        "outputId": "fa4fef15-7de5-4ed3-a1b1-673111e26701"
      },
      "source": [
        "pip install Faker"
      ],
      "execution_count": 1,
      "outputs": [
        {
          "output_type": "stream",
          "text": [
            "Collecting Faker\n",
            "\u001b[?25l  Downloading https://files.pythonhosted.org/packages/ee/64/079c012bed8bc416fa0d136ceff86a7d25e765f45d7a0a97e0b803b1d506/Faker-4.0.3-py3-none-any.whl (1.0MB)\n",
            "\r\u001b[K     |▎                               | 10kB 20.9MB/s eta 0:00:01\r\u001b[K     |▋                               | 20kB 26.4MB/s eta 0:00:01\r\u001b[K     |█                               | 30kB 31.1MB/s eta 0:00:01\r\u001b[K     |█▎                              | 40kB 18.3MB/s eta 0:00:01\r\u001b[K     |█▋                              | 51kB 14.3MB/s eta 0:00:01\r\u001b[K     |██                              | 61kB 13.1MB/s eta 0:00:01\r\u001b[K     |██▎                             | 71kB 12.1MB/s eta 0:00:01\r\u001b[K     |██▋                             | 81kB 12.2MB/s eta 0:00:01\r\u001b[K     |███                             | 92kB 12.0MB/s eta 0:00:01\r\u001b[K     |███▎                            | 102kB 12.5MB/s eta 0:00:01\r\u001b[K     |███▋                            | 112kB 12.5MB/s eta 0:00:01\r\u001b[K     |████                            | 122kB 12.5MB/s eta 0:00:01\r\u001b[K     |████▏                           | 133kB 12.5MB/s eta 0:00:01\r\u001b[K     |████▌                           | 143kB 12.5MB/s eta 0:00:01\r\u001b[K     |████▉                           | 153kB 12.5MB/s eta 0:00:01\r\u001b[K     |█████▏                          | 163kB 12.5MB/s eta 0:00:01\r\u001b[K     |█████▌                          | 174kB 12.5MB/s eta 0:00:01\r\u001b[K     |█████▉                          | 184kB 12.5MB/s eta 0:00:01\r\u001b[K     |██████▏                         | 194kB 12.5MB/s eta 0:00:01\r\u001b[K     |██████▌                         | 204kB 12.5MB/s eta 0:00:01\r\u001b[K     |██████▉                         | 215kB 12.5MB/s eta 0:00:01\r\u001b[K     |███████▏                        | 225kB 12.5MB/s eta 0:00:01\r\u001b[K     |███████▌                        | 235kB 12.5MB/s eta 0:00:01\r\u001b[K     |███████▉                        | 245kB 12.5MB/s eta 0:00:01\r\u001b[K     |████████▏                       | 256kB 12.5MB/s eta 0:00:01\r\u001b[K     |████████▍                       | 266kB 12.5MB/s eta 0:00:01\r\u001b[K     |████████▊                       | 276kB 12.5MB/s eta 0:00:01\r\u001b[K     |█████████                       | 286kB 12.5MB/s eta 0:00:01\r\u001b[K     |█████████▍                      | 296kB 12.5MB/s eta 0:00:01\r\u001b[K     |█████████▊                      | 307kB 12.5MB/s eta 0:00:01\r\u001b[K     |██████████                      | 317kB 12.5MB/s eta 0:00:01\r\u001b[K     |██████████▍                     | 327kB 12.5MB/s eta 0:00:01\r\u001b[K     |██████████▊                     | 337kB 12.5MB/s eta 0:00:01\r\u001b[K     |███████████                     | 348kB 12.5MB/s eta 0:00:01\r\u001b[K     |███████████▍                    | 358kB 12.5MB/s eta 0:00:01\r\u001b[K     |███████████▊                    | 368kB 12.5MB/s eta 0:00:01\r\u001b[K     |████████████                    | 378kB 12.5MB/s eta 0:00:01\r\u001b[K     |████████████▎                   | 389kB 12.5MB/s eta 0:00:01\r\u001b[K     |████████████▋                   | 399kB 12.5MB/s eta 0:00:01\r\u001b[K     |█████████████                   | 409kB 12.5MB/s eta 0:00:01\r\u001b[K     |█████████████▎                  | 419kB 12.5MB/s eta 0:00:01\r\u001b[K     |█████████████▋                  | 430kB 12.5MB/s eta 0:00:01\r\u001b[K     |██████████████                  | 440kB 12.5MB/s eta 0:00:01\r\u001b[K     |██████████████▎                 | 450kB 12.5MB/s eta 0:00:01\r\u001b[K     |██████████████▋                 | 460kB 12.5MB/s eta 0:00:01\r\u001b[K     |███████████████                 | 471kB 12.5MB/s eta 0:00:01\r\u001b[K     |███████████████▎                | 481kB 12.5MB/s eta 0:00:01\r\u001b[K     |███████████████▋                | 491kB 12.5MB/s eta 0:00:01\r\u001b[K     |████████████████                | 501kB 12.5MB/s eta 0:00:01\r\u001b[K     |████████████████▎               | 512kB 12.5MB/s eta 0:00:01\r\u001b[K     |████████████████▌               | 522kB 12.5MB/s eta 0:00:01\r\u001b[K     |████████████████▉               | 532kB 12.5MB/s eta 0:00:01\r\u001b[K     |█████████████████▏              | 542kB 12.5MB/s eta 0:00:01\r\u001b[K     |█████████████████▌              | 552kB 12.5MB/s eta 0:00:01\r\u001b[K     |█████████████████▉              | 563kB 12.5MB/s eta 0:00:01\r\u001b[K     |██████████████████▏             | 573kB 12.5MB/s eta 0:00:01\r\u001b[K     |██████████████████▌             | 583kB 12.5MB/s eta 0:00:01\r\u001b[K     |██████████████████▉             | 593kB 12.5MB/s eta 0:00:01\r\u001b[K     |███████████████████▏            | 604kB 12.5MB/s eta 0:00:01\r\u001b[K     |███████████████████▌            | 614kB 12.5MB/s eta 0:00:01\r\u001b[K     |███████████████████▉            | 624kB 12.5MB/s eta 0:00:01\r\u001b[K     |████████████████████▏           | 634kB 12.5MB/s eta 0:00:01\r\u001b[K     |████████████████████▌           | 645kB 12.5MB/s eta 0:00:01\r\u001b[K     |████████████████████▊           | 655kB 12.5MB/s eta 0:00:01\r\u001b[K     |█████████████████████           | 665kB 12.5MB/s eta 0:00:01\r\u001b[K     |█████████████████████▍          | 675kB 12.5MB/s eta 0:00:01\r\u001b[K     |█████████████████████▊          | 686kB 12.5MB/s eta 0:00:01\r\u001b[K     |██████████████████████          | 696kB 12.5MB/s eta 0:00:01\r\u001b[K     |██████████████████████▍         | 706kB 12.5MB/s eta 0:00:01\r\u001b[K     |██████████████████████▊         | 716kB 12.5MB/s eta 0:00:01\r\u001b[K     |███████████████████████         | 727kB 12.5MB/s eta 0:00:01\r\u001b[K     |███████████████████████▍        | 737kB 12.5MB/s eta 0:00:01\r\u001b[K     |███████████████████████▊        | 747kB 12.5MB/s eta 0:00:01\r\u001b[K     |████████████████████████        | 757kB 12.5MB/s eta 0:00:01\r\u001b[K     |████████████████████████▍       | 768kB 12.5MB/s eta 0:00:01\r\u001b[K     |████████████████████████▋       | 778kB 12.5MB/s eta 0:00:01\r\u001b[K     |█████████████████████████       | 788kB 12.5MB/s eta 0:00:01\r\u001b[K     |█████████████████████████▎      | 798kB 12.5MB/s eta 0:00:01\r\u001b[K     |█████████████████████████▋      | 808kB 12.5MB/s eta 0:00:01\r\u001b[K     |██████████████████████████      | 819kB 12.5MB/s eta 0:00:01\r\u001b[K     |██████████████████████████▎     | 829kB 12.5MB/s eta 0:00:01\r\u001b[K     |██████████████████████████▋     | 839kB 12.5MB/s eta 0:00:01\r\u001b[K     |███████████████████████████     | 849kB 12.5MB/s eta 0:00:01\r\u001b[K     |███████████████████████████▎    | 860kB 12.5MB/s eta 0:00:01\r\u001b[K     |███████████████████████████▋    | 870kB 12.5MB/s eta 0:00:01\r\u001b[K     |████████████████████████████    | 880kB 12.5MB/s eta 0:00:01\r\u001b[K     |████████████████████████████▎   | 890kB 12.5MB/s eta 0:00:01\r\u001b[K     |████████████████████████████▋   | 901kB 12.5MB/s eta 0:00:01\r\u001b[K     |████████████████████████████▉   | 911kB 12.5MB/s eta 0:00:01\r\u001b[K     |█████████████████████████████▏  | 921kB 12.5MB/s eta 0:00:01\r\u001b[K     |█████████████████████████████▌  | 931kB 12.5MB/s eta 0:00:01\r\u001b[K     |█████████████████████████████▉  | 942kB 12.5MB/s eta 0:00:01\r\u001b[K     |██████████████████████████████▏ | 952kB 12.5MB/s eta 0:00:01\r\u001b[K     |██████████████████████████████▌ | 962kB 12.5MB/s eta 0:00:01\r\u001b[K     |██████████████████████████████▉ | 972kB 12.5MB/s eta 0:00:01\r\u001b[K     |███████████████████████████████▏| 983kB 12.5MB/s eta 0:00:01\r\u001b[K     |███████████████████████████████▌| 993kB 12.5MB/s eta 0:00:01\r\u001b[K     |███████████████████████████████▉| 1.0MB 12.5MB/s eta 0:00:01\r\u001b[K     |████████████████████████████████| 1.0MB 12.5MB/s \n",
            "\u001b[?25hRequirement already satisfied: text-unidecode==1.3 in /usr/local/lib/python3.6/dist-packages (from Faker) (1.3)\n",
            "Requirement already satisfied: python-dateutil>=2.4 in /usr/local/lib/python3.6/dist-packages (from Faker) (2.8.1)\n",
            "Requirement already satisfied: six>=1.5 in /usr/local/lib/python3.6/dist-packages (from python-dateutil>=2.4->Faker) (1.12.0)\n",
            "Installing collected packages: Faker\n",
            "Successfully installed Faker-4.0.3\n"
          ],
          "name": "stdout"
        }
      ]
    },
    {
      "cell_type": "code",
      "metadata": {
        "colab_type": "code",
        "id": "sgGsvqiTc5Ty",
        "colab": {
          "base_uri": "https://localhost:8080/",
          "height": 34
        },
        "outputId": "9ad81403-864d-478b-87ba-e1c6f9ee0233"
      },
      "source": [
        "from keras.layers import Bidirectional, Concatenate, Permute, Dot, Input, LSTM, Multiply\n",
        "from keras.layers import RepeatVector, Dense, Activation, Lambda\n",
        "from keras.optimizers import Adam\n",
        "from keras.utils import to_categorical\n",
        "from keras.models import load_model, Model\n",
        "import keras.backend as K\n",
        "import numpy as np\n",
        "\n",
        "#pip install Faker\n",
        "from faker import Faker\n",
        "import random\n",
        "from tqdm import tqdm\n",
        "from babel.dates import format_date\n",
        "import matplotlib.pyplot as plt\n",
        "%matplotlib inline"
      ],
      "execution_count": 2,
      "outputs": [
        {
          "output_type": "stream",
          "text": [
            "Using TensorFlow backend.\n"
          ],
          "name": "stderr"
        }
      ]
    },
    {
      "cell_type": "markdown",
      "metadata": {
        "colab_type": "text",
        "id": "8FekgqIu__pm"
      },
      "source": [
        "## Data Preparation"
      ]
    },
    {
      "cell_type": "markdown",
      "metadata": {
        "colab_type": "text",
        "id": "brVDnmlfeJDF"
      },
      "source": [
        "Data used for this analysis is from [Faker](https://pypi.org/project/Faker/), a Python package that generates fake data for you. It can generate address, name, text, date etc..\n",
        "\n",
        "Following are the steps used for data preparation:\n",
        "1. Fetching data from Faker and creating human readable and machine readable dates.\n",
        "2. Creating a list of both the dates and dictionary of human vocab and machine vocab by assigning index to each of the unique character/integer.\n",
        "\n"
      ]
    },
    {
      "cell_type": "code",
      "metadata": {
        "colab_type": "code",
        "id": "DRmKtjQ--Vi2",
        "colab": {}
      },
      "source": [
        "# Formats consist of all possible formats of date \n",
        "FORMATS = ['short','medium','medium','medium','long','long','long','long','long','full','full','full','d MMM YYY',\n",
        "           'd MMMM YYY','d MMMM YYY','d MMMM YYY','d MMMM YYY','d MMMM YYY','dd/MM/YYY','EE d, MMM YYY','EEEE d, MMMM YYY']"
      ],
      "execution_count": 0,
      "outputs": []
    },
    {
      "cell_type": "code",
      "metadata": {
        "colab_type": "code",
        "id": "qLx3u45n-EEk",
        "colab": {}
      },
      "source": [
        "def random_date():\n",
        "    data = Faker().date_object()\n",
        "\n",
        "    try:\n",
        "        date = format_date(data, format=random.choice(FORMATS), locale='en')\n",
        "        human_date = date.lower().replace(',', '')\n",
        "        machine_date = data.isoformat()\n",
        "\n",
        "    except AttributeError as e:\n",
        "        return None, None, None\n",
        "\n",
        "    return human_date, machine_date, data"
      ],
      "execution_count": 0,
      "outputs": []
    },
    {
      "cell_type": "code",
      "metadata": {
        "colab_type": "code",
        "id": "LSDuv-_u9W7Y",
        "colab": {}
      },
      "source": [
        "\n",
        "def load_dataset(size):\n",
        "    human_vocab = set()\n",
        "    machine_vocab = set()\n",
        "    dataset = []\n",
        "    \n",
        "    '''\n",
        "    size: Number of instances in the data used for the analysis\n",
        "    dataset: List of two groups of dates (human readable date, machine readable date)\n",
        "    human_vocab: mapping of all characters used in human readable dates to dictionary index values\n",
        "    machine_vocab: mapping of all characters used in machine-readable dates to dictionary index values ​​(not necessarily identical to the index of human_vocab)\n",
        "    inv_machine_vocab: flip map of machine_vocab, mapping from index to character\n",
        "    '''\n",
        "    for i in tqdm(range(size)):\n",
        "        h, size, _ = random_date()\n",
        "        if h is not None:\n",
        "            dataset.append((h, size))\n",
        "            human_vocab.update(tuple(h))\n",
        "            machine_vocab.update(tuple(size))\n",
        "    \n",
        "    # Two special characters are added: <unk> for unknown characters in case if the word/character is not in the vocabulary, and <pad> to add padding at the end of the final sequence\n",
        "    human = dict(zip(sorted(human_vocab) + ['<unk>', '<pad>'], list(range(len(human_vocab) + 2))))\n",
        "    inv_machine = dict(enumerate(sorted(machine_vocab)))\n",
        "    machine = {v: k for k, v in inv_machine.items()}\n",
        " \n",
        "    return dataset, human, machine, inv_machine"
      ],
      "execution_count": 0,
      "outputs": []
    },
    {
      "cell_type": "code",
      "metadata": {
        "colab_type": "code",
        "id": "snHOItDseHmC",
        "outputId": "8c0a6dce-858d-486d-8a4b-24bb0a469465",
        "colab": {
          "base_uri": "https://localhost:8080/",
          "height": 34
        }
      },
      "source": [
        "size = 30000\n",
        "dataset, human_vocab, machine_vocab, inv_machine_vocab = load_dataset(size)"
      ],
      "execution_count": 6,
      "outputs": [
        {
          "output_type": "stream",
          "text": [
            "100%|██████████| 30000/30000 [06:11<00:00, 80.84it/s]\n"
          ],
          "name": "stderr"
        }
      ]
    },
    {
      "cell_type": "code",
      "metadata": {
        "id": "4zyYkS2c2l_0",
        "colab_type": "code",
        "colab": {}
      },
      "source": [
        "import pickle \n",
        "f = open(\"human_vocab.pkl\",\"wb\")\n",
        "pickle.dump(human_vocab,f)\n",
        "f.close()\n",
        "\n",
        "f = open(\"inv_machine_vocab.pkl\",\"wb\")\n",
        "pickle.dump(inv_machine_vocab,f)\n",
        "f.close()"
      ],
      "execution_count": 0,
      "outputs": []
    },
    {
      "cell_type": "markdown",
      "metadata": {
        "colab_type": "text",
        "id": "NcOg9S2AENuQ"
      },
      "source": [
        "## Data Preprocessing\n",
        "\n",
        "Here data will be processed by getting indexes corresponding to each of the input date using dictionaries created in previous step. Also, the length of each row in the process data will be of same size using padding. Later, one hot encoding is created for the indexes data."
      ]
    },
    {
      "cell_type": "code",
      "metadata": {
        "colab_type": "code",
        "id": "esAo8hWzA05t",
        "colab": {}
      },
      "source": [
        "def string_to_int(string, length, vocab):\n",
        "    string = string.lower()\n",
        "    string = string.replace(',','')\n",
        "    \n",
        "    if len(string) > length:\n",
        "        string = string[:length]\n",
        "        \n",
        "    rep = list(map(lambda x: vocab.get(x, '<unk>'), string))\n",
        "    \n",
        "    if len(string) < length:\n",
        "        rep += [vocab['<pad>']] * (length - len(string))\n",
        "    \n",
        "    return rep"
      ],
      "execution_count": 0,
      "outputs": []
    },
    {
      "cell_type": "code",
      "metadata": {
        "colab_type": "code",
        "id": "x06Sr3AkAnOh",
        "colab": {}
      },
      "source": [
        "def preprocess_data(dataset, human_vocab, machine_vocab, Tx, Ty):\n",
        "    X, Y = zip(*dataset)\n",
        "    \n",
        "    X = np.array([string_to_int(i, Tx, human_vocab) for i in X])\n",
        "    Y = np.array([string_to_int(t, Ty, machine_vocab) for t in Y])\n",
        "    \n",
        "    X_1 = np.array(list(map(lambda x: to_categorical(x, num_classes=len(human_vocab)), X)))\n",
        "    Y_1 = np.array(list(map(lambda x: to_categorical(x, num_classes=len(machine_vocab)), Y)))\n",
        "\n",
        "    return X, Y,X_1,Y_1"
      ],
      "execution_count": 0,
      "outputs": []
    },
    {
      "cell_type": "code",
      "metadata": {
        "colab_type": "code",
        "id": "x2VoFtQ8fZTX",
        "colab": {}
      },
      "source": [
        "Tx=30 # Timestep/Length of input date\n",
        "Ty=10 # Timestep/Length of output date\n",
        "X,Y,X_1,Y_1 = preprocess_data(dataset,human_vocab,machine_vocab,Tx,Ty)"
      ],
      "execution_count": 0,
      "outputs": []
    },
    {
      "cell_type": "markdown",
      "metadata": {
        "colab_type": "text",
        "id": "WqJ80DvvJOrX"
      },
      "source": [
        "## Sequence to Sequence Model using Attention Mechanism "
      ]
    },
    {
      "cell_type": "markdown",
      "metadata": {
        "colab_type": "text",
        "id": "MhiXEKrZEy0y"
      },
      "source": [
        "Sequence to Sequence model uses an Bidirectional RNN arcitecture so that the model will have forward and backward information (in the form of activations) at every step so that the model will learn from previous as well later instances. Attention mechanism is used by the network to identify how much focus to be made for one partcular time step as information from multiple time step will be folating into the prediction for that instance. \n",
        "\n",
        "A small neural network is used to identify the attention weights using the activation and LSTM layer of the decoder vector. Context is calculated using the attention weights and activated factors which will be passed as the information to the Post-attention LSTM layer of decoder. \n",
        "\n",
        "<center>        \n",
        "<img src=\"attn_mechanism.png\" style=\"width:500;height:500px;\"> \n",
        "</center>\n",
        "<caption><center> **Figure 1**: Atttention Mechanism</center></caption>\n"
      ]
    },
    {
      "cell_type": "code",
      "metadata": {
        "colab_type": "code",
        "id": "rCtBH-UaEOrm",
        "colab": {}
      },
      "source": [
        "# Different layers required for Attention calculation \n",
        "\n",
        "repeator     = RepeatVector(Tx)\n",
        "concatenator = Concatenate(axis=-1)\n",
        "densor1      = Dense(10,activation='tanh')\n",
        "densor2      = Dense(1,activation='relu')\n",
        "activator    = Activation('softmax',name=\"attention_weights\")\n",
        "dotor        = Dot(axes=1)"
      ],
      "execution_count": 0,
      "outputs": []
    },
    {
      "cell_type": "code",
      "metadata": {
        "colab_type": "code",
        "id": "GR1VEiaBIFwu",
        "colab": {}
      },
      "source": [
        "# Forward Propagation to get one_step_attention() with the layers\n",
        "def one_step_attention(a,s_prev):\n",
        "  '''\n",
        "  Execute attention:\n",
        "  a      : hidden state output of the Bi-LSTM, numpy-array of shape (m, Tx, 2*n_a)\n",
        "  s_prev : previous hidden state of the (post-attention) LSTM, numpy-array of shape\n",
        "  context: context vector, input of the next (post-attention) LSTM cell\n",
        "  '''\n",
        "  s_prev=repeator(s_prev)\n",
        "  concat=concatenator([a,s_prev])\n",
        "  e=densor1(concat)\n",
        "  energies=densor2(e)\n",
        "  alphas=activator(energies)\n",
        "  context=dotor([alphas,a])\n",
        "  return context"
      ],
      "execution_count": 0,
      "outputs": []
    },
    {
      "cell_type": "markdown",
      "metadata": {
        "colab_type": "text",
        "id": "0iHf3JcrLEac"
      },
      "source": [
        "First getting activation from Bidirectional LSTM, then one_step_attention is performed Ty times to calculate context. Following that another layer of LSTM will predict y.\n",
        "\n",
        "\n",
        "<center>        \n",
        "<img src=\"attn_model.png\" style=\"width:500;height:500px;\"> \n",
        "</center>\n",
        "<caption><center> **Figure 2**: Neural machine translation with attention</center></caption>\n"
      ]
    },
    {
      "cell_type": "code",
      "metadata": {
        "colab_type": "code",
        "id": "8dmtrQSiIO6F",
        "colab": {}
      },
      "source": [
        "def model(Tx,Ty,n_a,n_s,human_vocab_size,machine_vocab_size):\n",
        "    \n",
        "    '''\n",
        "    n_a: hidden state size of the Bi-LSTM\n",
        "    n_s: hidden state size of the post-attention LSTM\n",
        "    model: Keras model instance\n",
        "    '''\n",
        "\n",
        "    X=Input(shape=(Tx,human_vocab_size))\n",
        "    s0=Input(shape=(n_s,),name='s0')   #  s0,c0 - initial hidden state for the decoder LSTM of shape (n_s,)\n",
        "    c0=Input(shape=(n_s,),name='c0')\n",
        "    s=s0\n",
        "    c=c0\n",
        " \n",
        "    outputs=[]\n",
        "    a = Bidirectional(LSTM(n_a,return_sequences=True))(X)\n",
        "    for t in range(Ty):\n",
        "      context=one_step_attention(a,s)\n",
        "      s,_,c=post_activation_LSTM_cell(context,initial_state=[s,c])\n",
        "      out=output_layer(s)\n",
        "      outputs.append(out)\n",
        "\n",
        "    model=Model(inputs=[X,s0,c0],outputs=outputs)\n",
        " \n",
        "    return model"
      ],
      "execution_count": 0,
      "outputs": []
    },
    {
      "cell_type": "code",
      "metadata": {
        "colab_type": "code",
        "id": "Stc9_PSQJD0H",
        "colab": {}
      },
      "source": [
        "n_a = 32 \n",
        "n_s = 64\n",
        "post_activation_LSTM_cell = LSTM(n_s, return_state = True)\n",
        "output_layer = Dense(len(machine_vocab), activation='softmax')"
      ],
      "execution_count": 0,
      "outputs": []
    },
    {
      "cell_type": "code",
      "metadata": {
        "colab_type": "code",
        "id": "jhBAFWTgJulp",
        "colab": {}
      },
      "source": [
        "model = model(Tx, Ty, n_a, n_s, len(human_vocab), len(machine_vocab))"
      ],
      "execution_count": 0,
      "outputs": []
    },
    {
      "cell_type": "code",
      "metadata": {
        "colab_type": "code",
        "id": "MsJTovb4Jc4B",
        "colab": {
          "base_uri": "https://localhost:8080/",
          "height": 1000
        },
        "outputId": "306777ea-3c88-4d20-e8e6-da39bd4101e3"
      },
      "source": [
        "model.summary()"
      ],
      "execution_count": 15,
      "outputs": [
        {
          "output_type": "stream",
          "text": [
            "Model: \"model_1\"\n",
            "__________________________________________________________________________________________________\n",
            "Layer (type)                    Output Shape         Param #     Connected to                     \n",
            "==================================================================================================\n",
            "input_1 (InputLayer)            (None, 30, 37)       0                                            \n",
            "__________________________________________________________________________________________________\n",
            "s0 (InputLayer)                 (None, 64)           0                                            \n",
            "__________________________________________________________________________________________________\n",
            "bidirectional_1 (Bidirectional) (None, 30, 64)       17920       input_1[0][0]                    \n",
            "__________________________________________________________________________________________________\n",
            "repeat_vector_1 (RepeatVector)  (None, 30, 64)       0           s0[0][0]                         \n",
            "                                                                 lstm_1[0][0]                     \n",
            "                                                                 lstm_1[1][0]                     \n",
            "                                                                 lstm_1[2][0]                     \n",
            "                                                                 lstm_1[3][0]                     \n",
            "                                                                 lstm_1[4][0]                     \n",
            "                                                                 lstm_1[5][0]                     \n",
            "                                                                 lstm_1[6][0]                     \n",
            "                                                                 lstm_1[7][0]                     \n",
            "                                                                 lstm_1[8][0]                     \n",
            "__________________________________________________________________________________________________\n",
            "concatenate_1 (Concatenate)     (None, 30, 128)      0           bidirectional_1[0][0]            \n",
            "                                                                 repeat_vector_1[0][0]            \n",
            "                                                                 bidirectional_1[0][0]            \n",
            "                                                                 repeat_vector_1[1][0]            \n",
            "                                                                 bidirectional_1[0][0]            \n",
            "                                                                 repeat_vector_1[2][0]            \n",
            "                                                                 bidirectional_1[0][0]            \n",
            "                                                                 repeat_vector_1[3][0]            \n",
            "                                                                 bidirectional_1[0][0]            \n",
            "                                                                 repeat_vector_1[4][0]            \n",
            "                                                                 bidirectional_1[0][0]            \n",
            "                                                                 repeat_vector_1[5][0]            \n",
            "                                                                 bidirectional_1[0][0]            \n",
            "                                                                 repeat_vector_1[6][0]            \n",
            "                                                                 bidirectional_1[0][0]            \n",
            "                                                                 repeat_vector_1[7][0]            \n",
            "                                                                 bidirectional_1[0][0]            \n",
            "                                                                 repeat_vector_1[8][0]            \n",
            "                                                                 bidirectional_1[0][0]            \n",
            "                                                                 repeat_vector_1[9][0]            \n",
            "__________________________________________________________________________________________________\n",
            "dense_1 (Dense)                 (None, 30, 10)       1290        concatenate_1[0][0]              \n",
            "                                                                 concatenate_1[1][0]              \n",
            "                                                                 concatenate_1[2][0]              \n",
            "                                                                 concatenate_1[3][0]              \n",
            "                                                                 concatenate_1[4][0]              \n",
            "                                                                 concatenate_1[5][0]              \n",
            "                                                                 concatenate_1[6][0]              \n",
            "                                                                 concatenate_1[7][0]              \n",
            "                                                                 concatenate_1[8][0]              \n",
            "                                                                 concatenate_1[9][0]              \n",
            "__________________________________________________________________________________________________\n",
            "dense_2 (Dense)                 (None, 30, 1)        11          dense_1[0][0]                    \n",
            "                                                                 dense_1[1][0]                    \n",
            "                                                                 dense_1[2][0]                    \n",
            "                                                                 dense_1[3][0]                    \n",
            "                                                                 dense_1[4][0]                    \n",
            "                                                                 dense_1[5][0]                    \n",
            "                                                                 dense_1[6][0]                    \n",
            "                                                                 dense_1[7][0]                    \n",
            "                                                                 dense_1[8][0]                    \n",
            "                                                                 dense_1[9][0]                    \n",
            "__________________________________________________________________________________________________\n",
            "attention_weights (Activation)  (None, 30, 1)        0           dense_2[0][0]                    \n",
            "                                                                 dense_2[1][0]                    \n",
            "                                                                 dense_2[2][0]                    \n",
            "                                                                 dense_2[3][0]                    \n",
            "                                                                 dense_2[4][0]                    \n",
            "                                                                 dense_2[5][0]                    \n",
            "                                                                 dense_2[6][0]                    \n",
            "                                                                 dense_2[7][0]                    \n",
            "                                                                 dense_2[8][0]                    \n",
            "                                                                 dense_2[9][0]                    \n",
            "__________________________________________________________________________________________________\n",
            "dot_1 (Dot)                     (None, 1, 64)        0           attention_weights[0][0]          \n",
            "                                                                 bidirectional_1[0][0]            \n",
            "                                                                 attention_weights[1][0]          \n",
            "                                                                 bidirectional_1[0][0]            \n",
            "                                                                 attention_weights[2][0]          \n",
            "                                                                 bidirectional_1[0][0]            \n",
            "                                                                 attention_weights[3][0]          \n",
            "                                                                 bidirectional_1[0][0]            \n",
            "                                                                 attention_weights[4][0]          \n",
            "                                                                 bidirectional_1[0][0]            \n",
            "                                                                 attention_weights[5][0]          \n",
            "                                                                 bidirectional_1[0][0]            \n",
            "                                                                 attention_weights[6][0]          \n",
            "                                                                 bidirectional_1[0][0]            \n",
            "                                                                 attention_weights[7][0]          \n",
            "                                                                 bidirectional_1[0][0]            \n",
            "                                                                 attention_weights[8][0]          \n",
            "                                                                 bidirectional_1[0][0]            \n",
            "                                                                 attention_weights[9][0]          \n",
            "                                                                 bidirectional_1[0][0]            \n",
            "__________________________________________________________________________________________________\n",
            "c0 (InputLayer)                 (None, 64)           0                                            \n",
            "__________________________________________________________________________________________________\n",
            "lstm_1 (LSTM)                   [(None, 64), (None,  33024       dot_1[0][0]                      \n",
            "                                                                 s0[0][0]                         \n",
            "                                                                 c0[0][0]                         \n",
            "                                                                 dot_1[1][0]                      \n",
            "                                                                 lstm_1[0][0]                     \n",
            "                                                                 lstm_1[0][2]                     \n",
            "                                                                 dot_1[2][0]                      \n",
            "                                                                 lstm_1[1][0]                     \n",
            "                                                                 lstm_1[1][2]                     \n",
            "                                                                 dot_1[3][0]                      \n",
            "                                                                 lstm_1[2][0]                     \n",
            "                                                                 lstm_1[2][2]                     \n",
            "                                                                 dot_1[4][0]                      \n",
            "                                                                 lstm_1[3][0]                     \n",
            "                                                                 lstm_1[3][2]                     \n",
            "                                                                 dot_1[5][0]                      \n",
            "                                                                 lstm_1[4][0]                     \n",
            "                                                                 lstm_1[4][2]                     \n",
            "                                                                 dot_1[6][0]                      \n",
            "                                                                 lstm_1[5][0]                     \n",
            "                                                                 lstm_1[5][2]                     \n",
            "                                                                 dot_1[7][0]                      \n",
            "                                                                 lstm_1[6][0]                     \n",
            "                                                                 lstm_1[6][2]                     \n",
            "                                                                 dot_1[8][0]                      \n",
            "                                                                 lstm_1[7][0]                     \n",
            "                                                                 lstm_1[7][2]                     \n",
            "                                                                 dot_1[9][0]                      \n",
            "                                                                 lstm_1[8][0]                     \n",
            "                                                                 lstm_1[8][2]                     \n",
            "__________________________________________________________________________________________________\n",
            "dense_3 (Dense)                 (None, 11)           715         lstm_1[0][0]                     \n",
            "                                                                 lstm_1[1][0]                     \n",
            "                                                                 lstm_1[2][0]                     \n",
            "                                                                 lstm_1[3][0]                     \n",
            "                                                                 lstm_1[4][0]                     \n",
            "                                                                 lstm_1[5][0]                     \n",
            "                                                                 lstm_1[6][0]                     \n",
            "                                                                 lstm_1[7][0]                     \n",
            "                                                                 lstm_1[8][0]                     \n",
            "                                                                 lstm_1[9][0]                     \n",
            "==================================================================================================\n",
            "Total params: 52,960\n",
            "Trainable params: 52,960\n",
            "Non-trainable params: 0\n",
            "__________________________________________________________________________________________________\n"
          ],
          "name": "stdout"
        }
      ]
    },
    {
      "cell_type": "markdown",
      "metadata": {
        "colab_type": "text",
        "id": "u6HaE97JKk60"
      },
      "source": [
        "Compiling the model"
      ]
    },
    {
      "cell_type": "code",
      "metadata": {
        "colab_type": "code",
        "id": "bowVQ-IuKpyC",
        "colab": {}
      },
      "source": [
        "opt = Adam(lr=0.0005,beta_1=0.9,beta_2=0.999,decay=0.01)\n",
        "\n",
        "model.compile(loss='categorical_crossentropy',optimizer=opt,metrics=['accuracy'])\n",
        "\n",
        "s0 = np.zeros((size,n_s))\n",
        "c0 = np.zeros((size,n_s))\n",
        "outputs = list(Y_1.swapaxes(0,1))"
      ],
      "execution_count": 0,
      "outputs": []
    },
    {
      "cell_type": "code",
      "metadata": {
        "colab_type": "code",
        "id": "CAY5fqdLLIyX",
        "colab": {
          "base_uri": "https://localhost:8080/",
          "height": 1000
        },
        "outputId": "f7c8d53a-5e8e-4da1-927c-e0a272f88194"
      },
      "source": [
        "# Input: X, s0, c0 of all training samples (m=10000, Tx=30)\n",
        "# Output: A list of 11 (m, Ty) elements. So: outputs[i][0], ..., outputs[i][Ty] represents the label characters of the i-th sample (X[i])\n",
        "\n",
        "history = model.fit([X_1,s0,c0],outputs,epochs=30,batch_size=100)"
      ],
      "execution_count": 17,
      "outputs": [
        {
          "output_type": "stream",
          "text": [
            "Epoch 1/30\n",
            "30000/30000 [==============================] - 50s 2ms/step - loss: 18.4986 - dense_3_loss: 2.5811 - dense_3_accuracy: 0.5893 - dense_3_accuracy_1: 0.7018 - dense_3_accuracy_2: 0.3418 - dense_3_accuracy_3: 0.1241 - dense_3_accuracy_4: 0.6896 - dense_3_accuracy_5: 0.1530 - dense_3_accuracy_6: 0.0567 - dense_3_accuracy_7: 0.7113 - dense_3_accuracy_8: 0.1978 - dense_3_accuracy_9: 0.1079\n",
            "Epoch 2/30\n",
            "30000/30000 [==============================] - 44s 1ms/step - loss: 15.1181 - dense_3_loss: 2.2917 - dense_3_accuracy: 0.9397 - dense_3_accuracy_1: 0.9351 - dense_3_accuracy_2: 0.5011 - dense_3_accuracy_3: 0.1584 - dense_3_accuracy_4: 0.8406 - dense_3_accuracy_5: 0.0955 - dense_3_accuracy_6: 0.0743 - dense_3_accuracy_7: 0.5294 - dense_3_accuracy_8: 0.3958 - dense_3_accuracy_9: 0.1953\n",
            "Epoch 3/30\n",
            "30000/30000 [==============================] - 43s 1ms/step - loss: 13.9807 - dense_3_loss: 2.1343 - dense_3_accuracy: 0.9636 - dense_3_accuracy_1: 0.9655 - dense_3_accuracy_2: 0.5891 - dense_3_accuracy_3: 0.1939 - dense_3_accuracy_4: 0.8912 - dense_3_accuracy_5: 0.0766 - dense_3_accuracy_6: 0.0770 - dense_3_accuracy_7: 0.4601 - dense_3_accuracy_8: 0.4525 - dense_3_accuracy_9: 0.2357\n",
            "Epoch 4/30\n",
            "30000/30000 [==============================] - 45s 1ms/step - loss: 13.3790 - dense_3_loss: 2.0519 - dense_3_accuracy: 0.9696 - dense_3_accuracy_1: 0.9725 - dense_3_accuracy_2: 0.6539 - dense_3_accuracy_3: 0.2254 - dense_3_accuracy_4: 0.9260 - dense_3_accuracy_5: 0.0921 - dense_3_accuracy_6: 0.0789 - dense_3_accuracy_7: 0.4290 - dense_3_accuracy_8: 0.4698 - dense_3_accuracy_9: 0.2592\n",
            "Epoch 5/30\n",
            "30000/30000 [==============================] - 44s 1ms/step - loss: 12.9405 - dense_3_loss: 2.0075 - dense_3_accuracy: 0.9717 - dense_3_accuracy_1: 0.9755 - dense_3_accuracy_2: 0.6878 - dense_3_accuracy_3: 0.2477 - dense_3_accuracy_4: 0.9516 - dense_3_accuracy_5: 0.1570 - dense_3_accuracy_6: 0.0851 - dense_3_accuracy_7: 0.4340 - dense_3_accuracy_8: 0.4758 - dense_3_accuracy_9: 0.2694\n",
            "Epoch 6/30\n",
            "30000/30000 [==============================] - 44s 1ms/step - loss: 12.5270 - dense_3_loss: 1.9849 - dense_3_accuracy: 0.9728 - dense_3_accuracy_1: 0.9778 - dense_3_accuracy_2: 0.7101 - dense_3_accuracy_3: 0.2638 - dense_3_accuracy_4: 0.9720 - dense_3_accuracy_5: 0.3253 - dense_3_accuracy_6: 0.0930 - dense_3_accuracy_7: 0.4947 - dense_3_accuracy_8: 0.4676 - dense_3_accuracy_9: 0.2727\n",
            "Epoch 7/30\n",
            "30000/30000 [==============================] - 43s 1ms/step - loss: 12.1087 - dense_3_loss: 1.9713 - dense_3_accuracy: 0.9741 - dense_3_accuracy_1: 0.9785 - dense_3_accuracy_2: 0.7243 - dense_3_accuracy_3: 0.2802 - dense_3_accuracy_4: 0.9840 - dense_3_accuracy_5: 0.5770 - dense_3_accuracy_6: 0.1007 - dense_3_accuracy_7: 0.6125 - dense_3_accuracy_8: 0.4602 - dense_3_accuracy_9: 0.2737\n",
            "Epoch 8/30\n",
            "30000/30000 [==============================] - 44s 1ms/step - loss: 11.6486 - dense_3_loss: 1.9583 - dense_3_accuracy: 0.9752 - dense_3_accuracy_1: 0.9788 - dense_3_accuracy_2: 0.7410 - dense_3_accuracy_3: 0.2880 - dense_3_accuracy_4: 0.9899 - dense_3_accuracy_5: 0.7665 - dense_3_accuracy_6: 0.1081 - dense_3_accuracy_7: 0.7506 - dense_3_accuracy_8: 0.4704 - dense_3_accuracy_9: 0.2724\n",
            "Epoch 9/30\n",
            "30000/30000 [==============================] - 44s 1ms/step - loss: 10.9404 - dense_3_loss: 1.9262 - dense_3_accuracy: 0.9758 - dense_3_accuracy_1: 0.9790 - dense_3_accuracy_2: 0.7570 - dense_3_accuracy_3: 0.2528 - dense_3_accuracy_4: 0.9891 - dense_3_accuracy_5: 0.8368 - dense_3_accuracy_6: 0.1443 - dense_3_accuracy_7: 0.8993 - dense_3_accuracy_8: 0.5468 - dense_3_accuracy_9: 0.2795\n",
            "Epoch 10/30\n",
            "30000/30000 [==============================] - 44s 1ms/step - loss: 10.1580 - dense_3_loss: 1.8785 - dense_3_accuracy: 0.9754 - dense_3_accuracy_1: 0.9789 - dense_3_accuracy_2: 0.7519 - dense_3_accuracy_3: 0.2576 - dense_3_accuracy_4: 0.9943 - dense_3_accuracy_5: 0.8384 - dense_3_accuracy_6: 0.2014 - dense_3_accuracy_7: 0.9691 - dense_3_accuracy_8: 0.6175 - dense_3_accuracy_9: 0.2890\n",
            "Epoch 11/30\n",
            "30000/30000 [==============================] - 44s 1ms/step - loss: 9.6686 - dense_3_loss: 1.8340 - dense_3_accuracy: 0.9754 - dense_3_accuracy_1: 0.9794 - dense_3_accuracy_2: 0.7486 - dense_3_accuracy_3: 0.2914 - dense_3_accuracy_4: 0.9975 - dense_3_accuracy_5: 0.8414 - dense_3_accuracy_6: 0.2380 - dense_3_accuracy_7: 0.9844 - dense_3_accuracy_8: 0.6417 - dense_3_accuracy_9: 0.3008\n",
            "Epoch 12/30\n",
            "30000/30000 [==============================] - 45s 1ms/step - loss: 9.3326 - dense_3_loss: 1.7999 - dense_3_accuracy: 0.9755 - dense_3_accuracy_1: 0.9791 - dense_3_accuracy_2: 0.7516 - dense_3_accuracy_3: 0.3176 - dense_3_accuracy_4: 0.9983 - dense_3_accuracy_5: 0.8429 - dense_3_accuracy_6: 0.2661 - dense_3_accuracy_7: 0.9893 - dense_3_accuracy_8: 0.6482 - dense_3_accuracy_9: 0.3110\n",
            "Epoch 13/30\n",
            "30000/30000 [==============================] - 44s 1ms/step - loss: 9.0764 - dense_3_loss: 1.7749 - dense_3_accuracy: 0.9761 - dense_3_accuracy_1: 0.9793 - dense_3_accuracy_2: 0.7572 - dense_3_accuracy_3: 0.3388 - dense_3_accuracy_4: 0.9987 - dense_3_accuracy_5: 0.8471 - dense_3_accuracy_6: 0.2896 - dense_3_accuracy_7: 0.9922 - dense_3_accuracy_8: 0.6530 - dense_3_accuracy_9: 0.3183\n",
            "Epoch 14/30\n",
            "30000/30000 [==============================] - 43s 1ms/step - loss: 8.8678 - dense_3_loss: 1.7562 - dense_3_accuracy: 0.9762 - dense_3_accuracy_1: 0.9795 - dense_3_accuracy_2: 0.7603 - dense_3_accuracy_3: 0.3554 - dense_3_accuracy_4: 0.9989 - dense_3_accuracy_5: 0.8492 - dense_3_accuracy_6: 0.3056 - dense_3_accuracy_7: 0.9939 - dense_3_accuracy_8: 0.6555 - dense_3_accuracy_9: 0.3243\n",
            "Epoch 15/30\n",
            "30000/30000 [==============================] - 43s 1ms/step - loss: 8.6899 - dense_3_loss: 1.7413 - dense_3_accuracy: 0.9768 - dense_3_accuracy_1: 0.9795 - dense_3_accuracy_2: 0.7647 - dense_3_accuracy_3: 0.3691 - dense_3_accuracy_4: 0.9991 - dense_3_accuracy_5: 0.8519 - dense_3_accuracy_6: 0.3218 - dense_3_accuracy_7: 0.9953 - dense_3_accuracy_8: 0.6581 - dense_3_accuracy_9: 0.3286\n",
            "Epoch 16/30\n",
            "30000/30000 [==============================] - 44s 1ms/step - loss: 8.5394 - dense_3_loss: 1.7285 - dense_3_accuracy: 0.9769 - dense_3_accuracy_1: 0.9795 - dense_3_accuracy_2: 0.7687 - dense_3_accuracy_3: 0.3778 - dense_3_accuracy_4: 0.9992 - dense_3_accuracy_5: 0.8537 - dense_3_accuracy_6: 0.3331 - dense_3_accuracy_7: 0.9965 - dense_3_accuracy_8: 0.6592 - dense_3_accuracy_9: 0.3330\n",
            "Epoch 17/30\n",
            "30000/30000 [==============================] - 44s 1ms/step - loss: 8.4095 - dense_3_loss: 1.7186 - dense_3_accuracy: 0.9772 - dense_3_accuracy_1: 0.9797 - dense_3_accuracy_2: 0.7742 - dense_3_accuracy_3: 0.3858 - dense_3_accuracy_4: 0.9993 - dense_3_accuracy_5: 0.8554 - dense_3_accuracy_6: 0.3410 - dense_3_accuracy_7: 0.9971 - dense_3_accuracy_8: 0.6617 - dense_3_accuracy_9: 0.3356\n",
            "Epoch 18/30\n",
            "30000/30000 [==============================] - 44s 1ms/step - loss: 8.2945 - dense_3_loss: 1.7092 - dense_3_accuracy: 0.9775 - dense_3_accuracy_1: 0.9796 - dense_3_accuracy_2: 0.7791 - dense_3_accuracy_3: 0.3924 - dense_3_accuracy_4: 0.9993 - dense_3_accuracy_5: 0.8569 - dense_3_accuracy_6: 0.3479 - dense_3_accuracy_7: 0.9977 - dense_3_accuracy_8: 0.6650 - dense_3_accuracy_9: 0.3384\n",
            "Epoch 19/30\n",
            "30000/30000 [==============================] - 44s 1ms/step - loss: 8.1912 - dense_3_loss: 1.7018 - dense_3_accuracy: 0.9774 - dense_3_accuracy_1: 0.9796 - dense_3_accuracy_2: 0.7825 - dense_3_accuracy_3: 0.3988 - dense_3_accuracy_4: 0.9993 - dense_3_accuracy_5: 0.8594 - dense_3_accuracy_6: 0.3551 - dense_3_accuracy_7: 0.9981 - dense_3_accuracy_8: 0.6662 - dense_3_accuracy_9: 0.3415\n",
            "Epoch 20/30\n",
            "30000/30000 [==============================] - 43s 1ms/step - loss: 8.0971 - dense_3_loss: 1.6947 - dense_3_accuracy: 0.9780 - dense_3_accuracy_1: 0.9799 - dense_3_accuracy_2: 0.7864 - dense_3_accuracy_3: 0.4031 - dense_3_accuracy_4: 0.9993 - dense_3_accuracy_5: 0.8605 - dense_3_accuracy_6: 0.3615 - dense_3_accuracy_7: 0.9984 - dense_3_accuracy_8: 0.6671 - dense_3_accuracy_9: 0.3439\n",
            "Epoch 21/30\n",
            "30000/30000 [==============================] - 45s 1ms/step - loss: 8.0116 - dense_3_loss: 1.6893 - dense_3_accuracy: 0.9780 - dense_3_accuracy_1: 0.9802 - dense_3_accuracy_2: 0.7896 - dense_3_accuracy_3: 0.4077 - dense_3_accuracy_4: 0.9995 - dense_3_accuracy_5: 0.8625 - dense_3_accuracy_6: 0.3672 - dense_3_accuracy_7: 0.9986 - dense_3_accuracy_8: 0.6694 - dense_3_accuracy_9: 0.3445\n",
            "Epoch 22/30\n",
            "30000/30000 [==============================] - 44s 1ms/step - loss: 7.9325 - dense_3_loss: 1.6830 - dense_3_accuracy: 0.9784 - dense_3_accuracy_1: 0.9800 - dense_3_accuracy_2: 0.7922 - dense_3_accuracy_3: 0.4116 - dense_3_accuracy_4: 0.9995 - dense_3_accuracy_5: 0.8641 - dense_3_accuracy_6: 0.3725 - dense_3_accuracy_7: 0.9987 - dense_3_accuracy_8: 0.6705 - dense_3_accuracy_9: 0.3481\n",
            "Epoch 23/30\n",
            "30000/30000 [==============================] - 44s 1ms/step - loss: 7.8589 - dense_3_loss: 1.6777 - dense_3_accuracy: 0.9786 - dense_3_accuracy_1: 0.9802 - dense_3_accuracy_2: 0.7945 - dense_3_accuracy_3: 0.4156 - dense_3_accuracy_4: 0.9995 - dense_3_accuracy_5: 0.8654 - dense_3_accuracy_6: 0.3777 - dense_3_accuracy_7: 0.9989 - dense_3_accuracy_8: 0.6731 - dense_3_accuracy_9: 0.3482\n",
            "Epoch 24/30\n",
            "30000/30000 [==============================] - 44s 1ms/step - loss: 7.7904 - dense_3_loss: 1.6729 - dense_3_accuracy: 0.9787 - dense_3_accuracy_1: 0.9803 - dense_3_accuracy_2: 0.7969 - dense_3_accuracy_3: 0.4190 - dense_3_accuracy_4: 0.9996 - dense_3_accuracy_5: 0.8670 - dense_3_accuracy_6: 0.3820 - dense_3_accuracy_7: 0.9991 - dense_3_accuracy_8: 0.6756 - dense_3_accuracy_9: 0.3500\n",
            "Epoch 25/30\n",
            "30000/30000 [==============================] - 43s 1ms/step - loss: 7.7263 - dense_3_loss: 1.6684 - dense_3_accuracy: 0.9788 - dense_3_accuracy_1: 0.9803 - dense_3_accuracy_2: 0.7986 - dense_3_accuracy_3: 0.4231 - dense_3_accuracy_4: 0.9996 - dense_3_accuracy_5: 0.8680 - dense_3_accuracy_6: 0.3869 - dense_3_accuracy_7: 0.9992 - dense_3_accuracy_8: 0.6770 - dense_3_accuracy_9: 0.3514\n",
            "Epoch 26/30\n",
            "30000/30000 [==============================] - 45s 2ms/step - loss: 7.6657 - dense_3_loss: 1.6644 - dense_3_accuracy: 0.9789 - dense_3_accuracy_1: 0.9803 - dense_3_accuracy_2: 0.7997 - dense_3_accuracy_3: 0.4268 - dense_3_accuracy_4: 0.9996 - dense_3_accuracy_5: 0.8706 - dense_3_accuracy_6: 0.3907 - dense_3_accuracy_7: 0.9992 - dense_3_accuracy_8: 0.6791 - dense_3_accuracy_9: 0.3526\n",
            "Epoch 27/30\n",
            "30000/30000 [==============================] - 44s 1ms/step - loss: 7.6089 - dense_3_loss: 1.6603 - dense_3_accuracy: 0.9793 - dense_3_accuracy_1: 0.9804 - dense_3_accuracy_2: 0.8018 - dense_3_accuracy_3: 0.4289 - dense_3_accuracy_4: 0.9996 - dense_3_accuracy_5: 0.8713 - dense_3_accuracy_6: 0.3952 - dense_3_accuracy_7: 0.9993 - dense_3_accuracy_8: 0.6810 - dense_3_accuracy_9: 0.3534\n",
            "Epoch 28/30\n",
            "30000/30000 [==============================] - 44s 1ms/step - loss: 7.5553 - dense_3_loss: 1.6565 - dense_3_accuracy: 0.9792 - dense_3_accuracy_1: 0.9803 - dense_3_accuracy_2: 0.8028 - dense_3_accuracy_3: 0.4328 - dense_3_accuracy_4: 0.9996 - dense_3_accuracy_5: 0.8727 - dense_3_accuracy_6: 0.3991 - dense_3_accuracy_7: 0.9995 - dense_3_accuracy_8: 0.6813 - dense_3_accuracy_9: 0.3547\n",
            "Epoch 29/30\n",
            "30000/30000 [==============================] - 44s 1ms/step - loss: 7.5046 - dense_3_loss: 1.6526 - dense_3_accuracy: 0.9794 - dense_3_accuracy_1: 0.9806 - dense_3_accuracy_2: 0.8038 - dense_3_accuracy_3: 0.4344 - dense_3_accuracy_4: 0.9996 - dense_3_accuracy_5: 0.8748 - dense_3_accuracy_6: 0.4032 - dense_3_accuracy_7: 0.9995 - dense_3_accuracy_8: 0.6838 - dense_3_accuracy_9: 0.3553\n",
            "Epoch 30/30\n",
            "30000/30000 [==============================] - 44s 1ms/step - loss: 7.4566 - dense_3_loss: 1.6494 - dense_3_accuracy: 0.9794 - dense_3_accuracy_1: 0.9806 - dense_3_accuracy_2: 0.8057 - dense_3_accuracy_3: 0.4367 - dense_3_accuracy_4: 0.9996 - dense_3_accuracy_5: 0.8767 - dense_3_accuracy_6: 0.4064 - dense_3_accuracy_7: 0.9996 - dense_3_accuracy_8: 0.6846 - dense_3_accuracy_9: 0.3568\n"
          ],
          "name": "stdout"
        }
      ]
    },
    {
      "cell_type": "code",
      "metadata": {
        "colab_type": "code",
        "id": "EqNIWravNp6U",
        "colab": {}
      },
      "source": [
        "model.save('NMT_date_conversion_model.h5')"
      ],
      "execution_count": 0,
      "outputs": []
    },
    {
      "cell_type": "code",
      "metadata": {
        "id": "XCLJUkgWtqf_",
        "colab_type": "code",
        "colab": {
          "base_uri": "https://localhost:8080/",
          "height": 279
        },
        "outputId": "4656a15a-f68e-41cc-e490-8bcc6ab7fee5"
      },
      "source": [
        "import matplotlib.pyplot as plt\n",
        "%matplotlib inline\n",
        "\n",
        "plt.plot(history.history['loss'])\n",
        "\n",
        "plt.xlabel('Epoch')\n",
        "plt.legend(['Loss'], loc='upper left')\n",
        "plt.show()"
      ],
      "execution_count": 21,
      "outputs": [
        {
          "output_type": "display_data",
          "data": {
            "image/png": "[encoded data removed]",
            "text/plain": [
              "<Figure size 432x288 with 1 Axes>"
            ]
          },
          "metadata": {
            "tags": [],
            "needs_background": "light"
          }
        }
      ]
    },
    {
      "cell_type": "code",
      "metadata": {
        "id": "s_C54r5P2P7R",
        "colab_type": "code",
        "colab": {
          "base_uri": "https://localhost:8080/",
          "height": 279
        },
        "outputId": "d3cd342b-d273-4b37-f8e1-2142421ba38e"
      },
      "source": [
        "import matplotlib.pyplot as plt\n",
        "%matplotlib inline\n",
        "\n",
        "plt.plot(history.history['dense_3_accuracy'])\n",
        "\n",
        "plt.xlabel('Epoch')\n",
        "plt.legend(['Accuracy'], loc='upper left')\n",
        "plt.show()"
      ],
      "execution_count": 22,
      "outputs": [
        {
          "output_type": "display_data",
          "data": {
            "image/png": "[encoded data removed]",
            "text/plain": [
              "<Figure size 432x288 with 1 Axes>"
            ]
          },
          "metadata": {
            "tags": [],
            "needs_background": "light"
          }
        }
      ]
    },
    {
      "cell_type": "markdown",
      "metadata": {
        "colab_type": "text",
        "id": "q3wDiae1HSfi"
      },
      "source": [
        "## Next Step\n",
        "\n",
        "- Model can be trained on higher size of data \n",
        "- Different parameters can be tried like learning rate, units etc.\n",
        "- Different optimization function can be tried like LeakyRelu etc. \n",
        "- We can play more around the architechure adding more layers. \n",
        "\n"
      ]
    }
  ]
}